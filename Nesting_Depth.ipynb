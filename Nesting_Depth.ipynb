{
 "cells": [
  {
   "cell_type": "markdown",
   "metadata": {},
   "source": [
    "# Nesting Depth in Python"
   ]
  },
  {
   "cell_type": "markdown",
   "metadata": {},
   "source": [
    "##### Test 1 - 0000,(1)0(1), (111)000, (1)\n",
    "##### Test 2 - 0((2)1), (((3))1(2)), ((((4)))), ((2))0(((3))), ((22)1)"
   ]
  },
  {
   "cell_type": "code",
   "execution_count": 5,
   "metadata": {},
   "outputs": [
    {
     "name": "stdout",
     "output_type": "stream",
     "text": [
      "Enter digits between - 0 to 9\n",
      "221\n",
      "((22)1)\n"
     ]
    }
   ],
   "source": [
    "m = input(\"Enter digits between - 0 to 9\\n\")\n",
    "m = [int(i) for i in m]\n",
    "n = []\n",
    "\n",
    "for i in m: \n",
    "    \n",
    "    if (n.count('(')-n.count(')'))<=i:\n",
    "        while (n.count('(')-n.count(')')) != i:\n",
    "            n.append('(')            \n",
    "        n.append(i)        \n",
    "        \n",
    "    elif  (n.count('(')-n.count(')'))>i:\n",
    "        while (n.count('(')-n.count(')'))!=i:\n",
    "            n.append(')')\n",
    "        n.append(i)    \n",
    "        \n",
    "while (n.count('(')-n.count(')'))!=0:\n",
    "    n.append(')')\n",
    "    \n",
    "print(''.join(map(str,n)))"
   ]
  }
 ],
 "metadata": {
  "kernelspec": {
   "display_name": "Python 3",
   "language": "python",
   "name": "python3"
  },
  "language_info": {
   "codemirror_mode": {
    "name": "ipython",
    "version": 3
   },
   "file_extension": ".py",
   "mimetype": "text/x-python",
   "name": "python",
   "nbconvert_exporter": "python",
   "pygments_lexer": "ipython3",
   "version": "3.7.4"
  }
 },
 "nbformat": 4,
 "nbformat_minor": 2
}
